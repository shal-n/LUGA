{
  "nbformat": 4,
  "nbformat_minor": 0,
  "metadata": {
    "colab": {
      "name": "Untitled8.ipynb",
      "provenance": [],
      "collapsed_sections": [],
      "authorship_tag": "ABX9TyNy9R/rnEeHKBTkE4wFKM9d",
      "include_colab_link": true
    },
    "kernelspec": {
      "name": "python3",
      "display_name": "Python 3"
    }
  },
  "cells": [
    {
      "cell_type": "markdown",
      "metadata": {
        "id": "view-in-github",
        "colab_type": "text"
      },
      "source": [
        "<a href=\"https://colab.research.google.com/github/shal-n/LUGA/blob/master/Untitled8.ipynb\" target=\"_parent\"><img src=\"https://colab.research.google.com/assets/colab-badge.svg\" alt=\"Open In Colab\"/></a>"
      ]
    },
    {
      "cell_type": "markdown",
      "metadata": {
        "id": "YoVWQQ-v5tsW",
        "colab_type": "text"
      },
      "source": [
        "              PYTHON Assignment 1"
      ]
    },
    {
      "cell_type": "markdown",
      "metadata": {
        "id": "QkecnzBkmeXM",
        "colab_type": "text"
      },
      "source": [
        " 1. List and it default functions"
      ]
    },
    {
      "cell_type": "code",
      "metadata": {
        "id": "EDtPDEHWmfyY",
        "colab_type": "code",
        "colab": {}
      },
      "source": [
        "lst = [\"apple\",\"pineapple\",\"banana\",\"orange\"]"
      ],
      "execution_count": null,
      "outputs": []
    },
    {
      "cell_type": "code",
      "metadata": {
        "id": "oib-KV_Qn9w9",
        "colab_type": "code",
        "colab": {
          "base_uri": "https://localhost:8080/",
          "height": 137
        },
        "outputId": "1835ed80-6c44-46be-b487-c0429a91a182"
      },
      "source": [
        "lst.append(\"strawberry\")\n",
        "lst"
      ],
      "execution_count": null,
      "outputs": [
        {
          "output_type": "execute_result",
          "data": {
            "text/plain": [
              "['apple',\n",
              " 'pineapple',\n",
              " 'banana',\n",
              " 'orange',\n",
              " 'strawberry',\n",
              " 'strawberry',\n",
              " 'strawberry']"
            ]
          },
          "metadata": {
            "tags": []
          },
          "execution_count": 6
        }
      ]
    },
    {
      "cell_type": "code",
      "metadata": {
        "id": "DYcPOxreoH1v",
        "colab_type": "code",
        "colab": {
          "base_uri": "https://localhost:8080/",
          "height": 54
        },
        "outputId": "6c57b390-5c89-4110-a6d5-e3d9a4f7ba8f"
      },
      "source": [
        "lst.remove(\"strawberry\")\n",
        "lst"
      ],
      "execution_count": null,
      "outputs": [
        {
          "output_type": "execute_result",
          "data": {
            "text/plain": [
              "['apple', 'pineapple', 'banana', 'orange', 'strawberry', 'strawberry']"
            ]
          },
          "metadata": {
            "tags": []
          },
          "execution_count": 7
        }
      ]
    },
    {
      "cell_type": "code",
      "metadata": {
        "id": "JZ82jWu9ofZs",
        "colab_type": "code",
        "colab": {
          "base_uri": "https://localhost:8080/",
          "height": 54
        },
        "outputId": "21151fa2-7bdf-4b21-d959-93576cb52ce0"
      },
      "source": [
        "lst.pop()\n",
        "lst"
      ],
      "execution_count": null,
      "outputs": [
        {
          "output_type": "execute_result",
          "data": {
            "text/plain": [
              "['apple', 'pineapple', 'banana', 'orange', 'strawberry']"
            ]
          },
          "metadata": {
            "tags": []
          },
          "execution_count": 8
        }
      ]
    },
    {
      "cell_type": "code",
      "metadata": {
        "id": "h_iUYxcJpT2j",
        "colab_type": "code",
        "colab": {
          "base_uri": "https://localhost:8080/",
          "height": 34
        },
        "outputId": "494bbb2f-7469-4243-8418-4342df8cfddf"
      },
      "source": [
        "lst.count(\"apple\")\n",
        "lst.count(\"banana\")"
      ],
      "execution_count": null,
      "outputs": [
        {
          "output_type": "execute_result",
          "data": {
            "text/plain": [
              "1"
            ]
          },
          "metadata": {
            "tags": []
          },
          "execution_count": 18
        }
      ]
    },
    {
      "cell_type": "code",
      "metadata": {
        "id": "Imvz4Lujp0ke",
        "colab_type": "code",
        "colab": {
          "base_uri": "https://localhost:8080/",
          "height": 54
        },
        "outputId": "89ec4ea9-240e-4f17-ec98-4ad94490b2eb"
      },
      "source": [
        "lst.reverse()\n",
        "lst"
      ],
      "execution_count": null,
      "outputs": [
        {
          "output_type": "execute_result",
          "data": {
            "text/plain": [
              "['strawberry', 'orange', 'banana', 'pineapple', 'apple']"
            ]
          },
          "metadata": {
            "tags": []
          },
          "execution_count": 19
        }
      ]
    },
    {
      "cell_type": "markdown",
      "metadata": {
        "id": "GKCpUmvjqI86",
        "colab_type": "text"
      },
      "source": [
        " 2. Dictionary and its default functions"
      ]
    },
    {
      "cell_type": "code",
      "metadata": {
        "id": "mzmrwhnaqVay",
        "colab_type": "code",
        "colab": {
          "base_uri": "https://localhost:8080/",
          "height": 54
        },
        "outputId": "a6817799-0d0f-4950-b2fc-e83d0dd47fd0"
      },
      "source": [
        "Car = {\"brand\": \"Maruti\", \"Model\": \"Swfit\", \"Year\": 2020}\n",
        "Car"
      ],
      "execution_count": 53,
      "outputs": [
        {
          "output_type": "execute_result",
          "data": {
            "text/plain": [
              "{'Model': 'Swfit', 'Year': 2020, 'brand': 'Maruti'}"
            ]
          },
          "metadata": {
            "tags": []
          },
          "execution_count": 53
        }
      ]
    },
    {
      "cell_type": "code",
      "metadata": {
        "id": "iccH1_xiPorU",
        "colab_type": "code",
        "colab": {
          "base_uri": "https://localhost:8080/",
          "height": 34
        },
        "outputId": "d5c6bb15-ae97-45e7-d86d-99dd85bf440b"
      },
      "source": [
        "X = Car.get(\"Model\")\n",
        "X"
      ],
      "execution_count": 62,
      "outputs": [
        {
          "output_type": "execute_result",
          "data": {
            "text/plain": [
              "'Swfit'"
            ]
          },
          "metadata": {
            "tags": []
          },
          "execution_count": 62
        }
      ]
    },
    {
      "cell_type": "code",
      "metadata": {
        "id": "-wg0V6wjQQ-m",
        "colab_type": "code",
        "colab": {
          "base_uri": "https://localhost:8080/",
          "height": 54
        },
        "outputId": "8e128f6a-77fc-4a93-efe6-b698ccfb8cb7"
      },
      "source": [
        "Y = Car.items()\n",
        "Y"
      ],
      "execution_count": 63,
      "outputs": [
        {
          "output_type": "execute_result",
          "data": {
            "text/plain": [
              "dict_items([('brand', 'Maruti'), ('Model', 'Swfit'), ('Year', 2020)])"
            ]
          },
          "metadata": {
            "tags": []
          },
          "execution_count": 63
        }
      ]
    },
    {
      "cell_type": "code",
      "metadata": {
        "id": "SF-0tEQzQmhs",
        "colab_type": "code",
        "colab": {
          "base_uri": "https://localhost:8080/",
          "height": 54
        },
        "outputId": "7eeed376-4095-41aa-a74a-2798cd4e1aac"
      },
      "source": [
        "Car.update({\"Color\":\"Grey\"})\n",
        "Car"
      ],
      "execution_count": 66,
      "outputs": [
        {
          "output_type": "execute_result",
          "data": {
            "text/plain": [
              "{'Color': 'Grey', 'Model': 'Swfit', 'Year': 2020, 'brand': 'Maruti'}"
            ]
          },
          "metadata": {
            "tags": []
          },
          "execution_count": 66
        }
      ]
    },
    {
      "cell_type": "code",
      "metadata": {
        "id": "_nkp-jCCQ9s3",
        "colab_type": "code",
        "colab": {
          "base_uri": "https://localhost:8080/",
          "height": 54
        },
        "outputId": "8397e63e-e98b-462b-80fb-c5c882e95409"
      },
      "source": [
        "Z = Car.values()\n",
        "Z"
      ],
      "execution_count": 67,
      "outputs": [
        {
          "output_type": "execute_result",
          "data": {
            "text/plain": [
              "dict_values(['Maruti', 'Swfit', 2020, 'Grey'])"
            ]
          },
          "metadata": {
            "tags": []
          },
          "execution_count": 67
        }
      ]
    },
    {
      "cell_type": "code",
      "metadata": {
        "id": "N1oaAwb-RMcz",
        "colab_type": "code",
        "colab": {
          "base_uri": "https://localhost:8080/",
          "height": 34
        },
        "outputId": "ae983ecb-89f1-498a-ad86-356322a210e6"
      },
      "source": [
        "H = Car.setdefault(\"Model\")\n",
        "H"
      ],
      "execution_count": 68,
      "outputs": [
        {
          "output_type": "execute_result",
          "data": {
            "text/plain": [
              "'Swfit'"
            ]
          },
          "metadata": {
            "tags": []
          },
          "execution_count": 68
        }
      ]
    },
    {
      "cell_type": "markdown",
      "metadata": {
        "id": "Pmia_9AurrAy",
        "colab_type": "text"
      },
      "source": [
        " 3. Sets and its default functions"
      ]
    },
    {
      "cell_type": "code",
      "metadata": {
        "id": "WJ73cYU9rnce",
        "colab_type": "code",
        "colab": {
          "base_uri": "https://localhost:8080/",
          "height": 54
        },
        "outputId": "2e89c8cb-86f4-4346-8f38-00c80988768a"
      },
      "source": [
        "Car = {\"Hyundai\",\"Honda\",\"Toyota\",\"Tata\",\"Maruti\"}\n",
        "Car"
      ],
      "execution_count": null,
      "outputs": [
        {
          "output_type": "execute_result",
          "data": {
            "text/plain": [
              "{'Honda', 'Hyundai', 'Maruti', 'Tata', 'Toyota'}"
            ]
          },
          "metadata": {
            "tags": []
          },
          "execution_count": 20
        }
      ]
    },
    {
      "cell_type": "code",
      "metadata": {
        "id": "Wis4PVACsbU2",
        "colab_type": "code",
        "colab": {
          "base_uri": "https://localhost:8080/",
          "height": 34
        },
        "outputId": "e7cc3713-d167-4a40-a7c9-7bfb00fcbce4"
      },
      "source": [
        "Car.remove(\"Toyota\")\n",
        "Car"
      ],
      "execution_count": null,
      "outputs": [
        {
          "output_type": "execute_result",
          "data": {
            "text/plain": [
              "{'Honda', 'Hyundai', 'Maruti', 'Tata'}"
            ]
          },
          "metadata": {
            "tags": []
          },
          "execution_count": 22
        }
      ]
    },
    {
      "cell_type": "code",
      "metadata": {
        "id": "oi97vHPqs1Ai",
        "colab_type": "code",
        "colab": {
          "base_uri": "https://localhost:8080/",
          "height": 34
        },
        "outputId": "50838b8b-2311-40c8-970a-a29830dae8a7"
      },
      "source": [
        "Car.pop()\n",
        "Car"
      ],
      "execution_count": null,
      "outputs": [
        {
          "output_type": "execute_result",
          "data": {
            "text/plain": [
              "{'Honda', 'Hyundai', 'Maruti'}"
            ]
          },
          "metadata": {
            "tags": []
          },
          "execution_count": 23
        }
      ]
    },
    {
      "cell_type": "code",
      "metadata": {
        "id": "1wNssz-ws471",
        "colab_type": "code",
        "colab": {
          "base_uri": "https://localhost:8080/",
          "height": 34
        },
        "outputId": "441b1667-1685-4cf0-c9ea-1b30d7039410"
      },
      "source": [
        "Car.add(\"Ford\")\n",
        "Car"
      ],
      "execution_count": null,
      "outputs": [
        {
          "output_type": "execute_result",
          "data": {
            "text/plain": [
              "{'Ford', 'Honda', 'Hyundai', 'Maruti'}"
            ]
          },
          "metadata": {
            "tags": []
          },
          "execution_count": 24
        }
      ]
    },
    {
      "cell_type": "code",
      "metadata": {
        "id": "Qt8xrA1EtV5x",
        "colab_type": "code",
        "colab": {
          "base_uri": "https://localhost:8080/",
          "height": 34
        },
        "outputId": "6347e3e6-4bcc-498c-ba4d-881e76c36cff"
      },
      "source": [
        "Car.clear()\n",
        "Car"
      ],
      "execution_count": null,
      "outputs": [
        {
          "output_type": "execute_result",
          "data": {
            "text/plain": [
              "set()"
            ]
          },
          "metadata": {
            "tags": []
          },
          "execution_count": 27
        }
      ]
    },
    {
      "cell_type": "code",
      "metadata": {
        "id": "1XaBWn5Atw_u",
        "colab_type": "code",
        "colab": {
          "base_uri": "https://localhost:8080/",
          "height": 34
        },
        "outputId": "2d8c9e9c-1f17-478d-9f95-8ed16d105495"
      },
      "source": [
        "A = {1,8,4,6,7}\n",
        "B = {21,45,3,23}\n",
        "A.union(B)"
      ],
      "execution_count": null,
      "outputs": [
        {
          "output_type": "execute_result",
          "data": {
            "text/plain": [
              "{1, 3, 4, 6, 7, 8, 21, 23, 45}"
            ]
          },
          "metadata": {
            "tags": []
          },
          "execution_count": 28
        }
      ]
    },
    {
      "cell_type": "markdown",
      "metadata": {
        "id": "63o77qw2uS10",
        "colab_type": "text"
      },
      "source": [
        " 4. Tuple and explore default methods"
      ]
    },
    {
      "cell_type": "code",
      "metadata": {
        "id": "RT89OmQbueh8",
        "colab_type": "code",
        "colab": {}
      },
      "source": [
        "Vowels =('a','e','i','o','u')"
      ],
      "execution_count": null,
      "outputs": []
    },
    {
      "cell_type": "code",
      "metadata": {
        "id": "DLkEYdv2vYOW",
        "colab_type": "code",
        "colab": {
          "base_uri": "https://localhost:8080/",
          "height": 34
        },
        "outputId": "78bd48a7-3ab6-45f2-c03a-3aab890396d8"
      },
      "source": [
        "Vowels.count('i')"
      ],
      "execution_count": null,
      "outputs": [
        {
          "output_type": "execute_result",
          "data": {
            "text/plain": [
              "1"
            ]
          },
          "metadata": {
            "tags": []
          },
          "execution_count": 31
        }
      ]
    },
    {
      "cell_type": "code",
      "metadata": {
        "id": "kpfAMSQSv5Dh",
        "colab_type": "code",
        "colab": {
          "base_uri": "https://localhost:8080/",
          "height": 34
        },
        "outputId": "ecff4704-e80e-4e2b-fc6e-8b52b38cb54d"
      },
      "source": [
        "i = Vowels.index('o')\n",
        "i"
      ],
      "execution_count": null,
      "outputs": [
        {
          "output_type": "execute_result",
          "data": {
            "text/plain": [
              "3"
            ]
          },
          "metadata": {
            "tags": []
          },
          "execution_count": 33
        }
      ]
    },
    {
      "cell_type": "markdown",
      "metadata": {
        "id": "oSrC2bmYwK3W",
        "colab_type": "text"
      },
      "source": [
        "5. Strings and explore default methods"
      ]
    },
    {
      "cell_type": "code",
      "metadata": {
        "id": "gXGfvK6vwUFV",
        "colab_type": "code",
        "colab": {
          "base_uri": "https://localhost:8080/",
          "height": 34
        },
        "outputId": "7e380fc4-c303-481e-f7d7-ea4880745a11"
      },
      "source": [
        "i = \"python\"\n",
        "j = \"is simple language\"\n",
        "K = i.count(j)\n",
        "K"
      ],
      "execution_count": null,
      "outputs": [
        {
          "output_type": "execute_result",
          "data": {
            "text/plain": [
              "0"
            ]
          },
          "metadata": {
            "tags": []
          },
          "execution_count": 35
        }
      ]
    },
    {
      "cell_type": "code",
      "metadata": {
        "id": "9W4s4eLS07_T",
        "colab_type": "code",
        "colab": {
          "base_uri": "https://localhost:8080/",
          "height": 34
        },
        "outputId": "06c989a1-6165-4a60-dea1-8372357ddf61"
      },
      "source": [
        "i.islower()"
      ],
      "execution_count": null,
      "outputs": [
        {
          "output_type": "execute_result",
          "data": {
            "text/plain": [
              "True"
            ]
          },
          "metadata": {
            "tags": []
          },
          "execution_count": 40
        }
      ]
    },
    {
      "cell_type": "code",
      "metadata": {
        "id": "0ZUDcqcT1nNt",
        "colab_type": "code",
        "colab": {
          "base_uri": "https://localhost:8080/",
          "height": 34
        },
        "outputId": "6aedf63a-f111-4543-b302-b3b548067dd6"
      },
      "source": [
        "N = \"DDchannel\"\n",
        "N.isupper()"
      ],
      "execution_count": null,
      "outputs": [
        {
          "output_type": "execute_result",
          "data": {
            "text/plain": [
              "False"
            ]
          },
          "metadata": {
            "tags": []
          },
          "execution_count": 42
        }
      ]
    },
    {
      "cell_type": "code",
      "metadata": {
        "id": "Eni88jHj178l",
        "colab_type": "code",
        "colab": {
          "base_uri": "https://localhost:8080/",
          "height": 34
        },
        "outputId": "64bf4b62-41cd-485e-9d07-3cc8db0a9eca"
      },
      "source": [
        "N.isnumeric()"
      ],
      "execution_count": null,
      "outputs": [
        {
          "output_type": "execute_result",
          "data": {
            "text/plain": [
              "False"
            ]
          },
          "metadata": {
            "tags": []
          },
          "execution_count": 44
        }
      ]
    },
    {
      "cell_type": "code",
      "metadata": {
        "id": "j6KNTgQ-6urH",
        "colab_type": "code",
        "colab": {
          "base_uri": "https://localhost:8080/",
          "height": 34
        },
        "outputId": "4a53af1a-ed5a-4cb0-d32b-a5b4f4ee5d0d"
      },
      "source": [
        "N.isprintable()"
      ],
      "execution_count": null,
      "outputs": [
        {
          "output_type": "execute_result",
          "data": {
            "text/plain": [
              "True"
            ]
          },
          "metadata": {
            "tags": []
          },
          "execution_count": 45
        }
      ]
    },
    {
      "cell_type": "code",
      "metadata": {
        "id": "4FDhhWp264hQ",
        "colab_type": "code",
        "colab": {
          "base_uri": "https://localhost:8080/",
          "height": 34
        },
        "outputId": "868512c8-b5a2-4426-b070-114f3ddf1694"
      },
      "source": [
        "P = \"good morning\"\n",
        "P.isspace()"
      ],
      "execution_count": null,
      "outputs": [
        {
          "output_type": "execute_result",
          "data": {
            "text/plain": [
              "False"
            ]
          },
          "metadata": {
            "tags": []
          },
          "execution_count": 52
        }
      ]
    }
  ]
}