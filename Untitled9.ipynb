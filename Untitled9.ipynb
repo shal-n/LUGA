{
  "nbformat": 4,
  "nbformat_minor": 0,
  "metadata": {
    "colab": {
      "name": "Untitled9.ipynb",
      "provenance": [],
      "authorship_tag": "ABX9TyN3gYk7NVFflzPBvYdxDwGm",
      "include_colab_link": true
    },
    "kernelspec": {
      "name": "python3",
      "display_name": "Python 3"
    }
  },
  "cells": [
    {
      "cell_type": "markdown",
      "metadata": {
        "id": "view-in-github",
        "colab_type": "text"
      },
      "source": [
        "<a href=\"https://colab.research.google.com/github/shal-n/LUGA/blob/master/Untitled9.ipynb\" target=\"_parent\"><img src=\"https://colab.research.google.com/assets/colab-badge.svg\" alt=\"Open In Colab\"/></a>"
      ]
    },
    {
      "cell_type": "markdown",
      "metadata": {
        "id": "lV21_K_qWppa",
        "colab_type": "text"
      },
      "source": [
        "1. You all are pilots, you want to land a plane safely, so WAP to take current latitude as input and check weather altitude is less then 1000ft, or more then 1000ft and it is less then 5000ft ask pilot bring further down to 1000ft and if it is more than 5000ft then ask pilot to turn around and attempt later."
      ]
    },
    {
      "cell_type": "code",
      "metadata": {
        "id": "dsTjb_rGQkw3",
        "colab_type": "code",
        "colab": {
          "base_uri": "https://localhost:8080/",
          "height": 51
        },
        "outputId": "1f6bb297-471f-4dc0-ae16-075f7c41dc5d"
      },
      "source": [
        "altitude = int(input(\" Enter altitude\"))\n",
        "if altitude == 1000:\n",
        "    print(\"Safe to land\")\n",
        "elif altitude <= 1000:\n",
        "    print(\"Bring up to 1000\")\n",
        "elif altitude >= 1000 and altitude <= 5000:\n",
        "    print(\"Bring down to 1000\")\n",
        "elif altitude > 5000:\n",
        "    print(\"Turn around\")"
      ],
      "execution_count": null,
      "outputs": [
        {
          "output_type": "stream",
          "text": [
            " Enter altitude1000\n",
            "Safe to land\n"
          ],
          "name": "stdout"
        }
      ]
    },
    {
      "cell_type": "markdown",
      "metadata": {
        "id": "2z_KZ82hV_b4",
        "colab_type": "text"
      },
      "source": [
        "2. Using for loop please print all prime number from range 1 to 200 using for loop and range    function"
      ]
    },
    {
      "cell_type": "code",
      "metadata": {
        "id": "ACJDhAc94c3b",
        "colab_type": "code",
        "colab": {
          "base_uri": "https://localhost:8080/",
          "height": 857
        },
        "outputId": "3dadf01a-2a5e-4079-aec9-a5f6bd9a9d0b"
      },
      "source": [
        "start = int(input(\"Enter a start number\"))\n",
        "end = int(input(\"Enter a end number\"))\n",
        "print(\"prime number from range 1 to 200 is\")\n",
        "for num in range(start,end+1):\n",
        "    if num > 1:\n",
        "        for i in range(2,num):\n",
        "            if(num%i)==0:\n",
        "                break\n",
        "        else:\n",
        "            print(num)"
      ],
      "execution_count": null,
      "outputs": [
        {
          "output_type": "stream",
          "text": [
            "Enter a start number1\n",
            "Enter a end number200\n",
            "prime number from range 1 to 200 is\n",
            "2\n",
            "3\n",
            "5\n",
            "7\n",
            "11\n",
            "13\n",
            "17\n",
            "19\n",
            "23\n",
            "29\n",
            "31\n",
            "37\n",
            "41\n",
            "43\n",
            "47\n",
            "53\n",
            "59\n",
            "61\n",
            "67\n",
            "71\n",
            "73\n",
            "79\n",
            "83\n",
            "89\n",
            "97\n",
            "101\n",
            "103\n",
            "107\n",
            "109\n",
            "113\n",
            "127\n",
            "131\n",
            "137\n",
            "139\n",
            "149\n",
            "151\n",
            "157\n",
            "163\n",
            "167\n",
            "173\n",
            "179\n",
            "181\n",
            "191\n",
            "193\n",
            "197\n",
            "199\n"
          ],
          "name": "stdout"
        }
      ]
    },
    {
      "cell_type": "markdown",
      "metadata": {
        "id": "S7vk5u-cUjZS",
        "colab_type": "text"
      },
      "source": [
        "3.  Print first Armstrong number in the range 1042000 to 702648265 and exit loop as soon you encounter first Armstrong number"
      ]
    },
    {
      "cell_type": "code",
      "metadata": {
        "id": "vrVd-DDeM51r",
        "colab_type": "code",
        "colab": {
          "base_uri": "https://localhost:8080/",
          "height": 154
        },
        "outputId": "bcfc0661-4500-43eb-d152-a461040be217"
      },
      "source": [
        "for i in range(1042000,702648265):\n",
        "    num = i\n",
        "    result = 0\n",
        "    n = len(str(i))\n",
        "    while(i!=0):\n",
        "        digit = i%10\n",
        "        result = result+digit**n\n",
        "        i = i//10\n",
        "    if num == result:\n",
        "        print(num)"
      ],
      "execution_count": null,
      "outputs": [
        {
          "output_type": "stream",
          "text": [
            "1741725\n",
            "4210818\n",
            "9800817\n",
            "9926315\n",
            "24678050\n",
            "24678051\n",
            "88593477\n",
            "146511208\n"
          ],
          "name": "stdout"
        }
      ]
    }
  ]
}