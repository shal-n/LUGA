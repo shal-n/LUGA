{
  "nbformat": 4,
  "nbformat_minor": 0,
  "metadata": {
    "colab": {
      "name": "Untitled10.ipynb",
      "provenance": [],
      "collapsed_sections": [],
      "authorship_tag": "ABX9TyPMEHJrEI8FQjmqJjll0dGn",
      "include_colab_link": true
    },
    "kernelspec": {
      "name": "python3",
      "display_name": "Python 3"
    }
  },
  "cells": [
    {
      "cell_type": "markdown",
      "metadata": {
        "id": "view-in-github",
        "colab_type": "text"
      },
      "source": [
        "<a href=\"https://colab.research.google.com/github/shal-n/LUGA/blob/master/Untitled10.ipynb\" target=\"_parent\"><img src=\"https://colab.research.google.com/assets/colab-badge.svg\" alt=\"Open In Colab\"/></a>"
      ]
    },
    {
      "cell_type": "markdown",
      "metadata": {
        "id": "R-FpLasTnLJo",
        "colab_type": "text"
      },
      "source": [
        " 1. Make a function for taking in a number and printing a fibonacci series"
      ]
    },
    {
      "cell_type": "code",
      "metadata": {
        "id": "LShSSP3EnIu4",
        "colab_type": "code",
        "colab": {
          "base_uri": "https://localhost:8080/",
          "height": 397
        },
        "outputId": "972912ee-8021-434b-aead-fe673af2ebbe"
      },
      "source": [
        "n = int(input(\"Enter how many numbers you want in these series:\"))\n",
        "first = 0 # initial value\n",
        "second = 1 # second value\n",
        "for i in range(n):\n",
        "    print(first)\n",
        "    temp = first # first value store in temp\n",
        "    first = second # second value store in first\n",
        "    second = temp+second"
      ],
      "execution_count": null,
      "outputs": [
        {
          "output_type": "stream",
          "text": [
            "Enter how many numbers you want in these series:20\n",
            "0\n",
            "1\n",
            "1\n",
            "2\n",
            "3\n",
            "5\n",
            "8\n",
            "13\n",
            "21\n",
            "34\n",
            "55\n",
            "89\n",
            "144\n",
            "233\n",
            "377\n",
            "610\n",
            "987\n",
            "1597\n",
            "2584\n",
            "4181\n"
          ],
          "name": "stdout"
        }
      ]
    },
    {
      "cell_type": "markdown",
      "metadata": {
        "id": "CLtXcIzfrKiS",
        "colab_type": "text"
      },
      "source": [
        "2. File handling questions \n",
        "  * Open a binary file\n",
        "  * Write \" I love Lets upgrade\"\n",
        "  * Read that file again\n",
        "  * Append \" We all love python classes with LU\"\n",
        "  * Read again using with keyword"
      ]
    },
    {
      "cell_type": "code",
      "metadata": {
        "id": "7bvMes3IsRM6",
        "colab_type": "code",
        "colab": {}
      },
      "source": [
        "# create a file by using open() function\n",
        "file = open(\"sample.txt\",'wb') # w - write mode, b - binary"
      ],
      "execution_count": null,
      "outputs": []
    },
    {
      "cell_type": "code",
      "metadata": {
        "id": "DCRF4t5wxtLc",
        "colab_type": "code",
        "colab": {
          "base_uri": "https://localhost:8080/",
          "height": 34
        },
        "outputId": "7e8e0bc5-ca98-41f0-a367-992f5859a88a"
      },
      "source": [
        "#Write \" I love Lets upgrad\"\n",
        "file.write(b'I love Lets upgrade. ')"
      ],
      "execution_count": null,
      "outputs": [
        {
          "output_type": "execute_result",
          "data": {
            "text/plain": [
              "21"
            ]
          },
          "metadata": {
            "tags": []
          },
          "execution_count": 17
        }
      ]
    },
    {
      "cell_type": "code",
      "metadata": {
        "id": "-zteVBR64x-H",
        "colab_type": "code",
        "colab": {}
      },
      "source": [
        "file.close()"
      ],
      "execution_count": null,
      "outputs": []
    },
    {
      "cell_type": "code",
      "metadata": {
        "id": "0dSwCqdFyQfZ",
        "colab_type": "code",
        "colab": {
          "base_uri": "https://localhost:8080/",
          "height": 34
        },
        "outputId": "6df2fb92-78d1-4791-dda8-84aec7f6a804"
      },
      "source": [
        "# read that file again\n",
        "file = open(\"sample.txt\",'rb')\n",
        "file.read()"
      ],
      "execution_count": null,
      "outputs": [
        {
          "output_type": "execute_result",
          "data": {
            "text/plain": [
              "b'I love Lets upgrade. '"
            ]
          },
          "metadata": {
            "tags": []
          },
          "execution_count": 19
        }
      ]
    },
    {
      "cell_type": "code",
      "metadata": {
        "id": "oGi98UCzACuy",
        "colab_type": "code",
        "colab": {}
      },
      "source": [
        "# file.close()"
      ],
      "execution_count": null,
      "outputs": []
    },
    {
      "cell_type": "code",
      "metadata": {
        "id": "E55hDM6fCeeU",
        "colab_type": "code",
        "colab": {
          "base_uri": "https://localhost:8080/",
          "height": 34
        },
        "outputId": "63777597-2aa9-4ae4-fbdc-934d8a66a5fc"
      },
      "source": [
        "# append \" we all love python classes with LU\n",
        "file = open(\"sample.txt\",'a+')\n",
        "file.write(\"we all love python classes with LU\")"
      ],
      "execution_count": null,
      "outputs": [
        {
          "output_type": "execute_result",
          "data": {
            "text/plain": [
              "34"
            ]
          },
          "metadata": {
            "tags": []
          },
          "execution_count": 23
        }
      ]
    },
    {
      "cell_type": "code",
      "metadata": {
        "id": "7KWFoATYDeSc",
        "colab_type": "code",
        "colab": {
          "base_uri": "https://localhost:8080/",
          "height": 54
        },
        "outputId": "52772565-a4f3-4926-ac8f-299f5d434de9"
      },
      "source": [
        "# Read again using keyword\n",
        "file = open(\"sample.txt\",'r')\n",
        "K = file.read()\n",
        "K"
      ],
      "execution_count": null,
      "outputs": [
        {
          "output_type": "execute_result",
          "data": {
            "text/plain": [
              "'I love Lets upgrade. we all love python classes with LUwe all love python classes with LU'"
            ]
          },
          "metadata": {
            "tags": []
          },
          "execution_count": 25
        }
      ]
    },
    {
      "cell_type": "markdown",
      "metadata": {
        "id": "ok5rSeKPOaYQ",
        "colab_type": "text"
      },
      "source": [
        " 3. Make a static movie recommender system which take in users input of what kind of movie they want to watch"
      ]
    },
    {
      "cell_type": "code",
      "metadata": {
        "id": "iDXwwa7lP8nl",
        "colab_type": "code",
        "colab": {
          "base_uri": "https://localhost:8080/",
          "height": 225
        },
        "outputId": "52f68c57-f3a8-4565-a84c-fc090c2aced2"
      },
      "source": [
        "import random\n",
        "print(\"Movie recommendations system  \\nplease type movie genres in the given list\\n Animated \\n Action \\n Thriller \\n Comedy\")\n",
        "m = input(\"Type your choice: \")\n",
        "print(\"------------------------------------‐--\")\n",
        "if m == \"Animated\":\n",
        "    a = [\"Frozen2\",\"The lion and King\",\"Hanuman\",\"Cinderella\",\"Chota bheem\",\"cars\",\"Tangled\",\"Brave\"]\n",
        "    print(\"my recommended Animated movie is:\\n\",random.choice(a))\n",
        "elif m == \"Action\": \n",
        "     b = [\"sahoo\",\"Bahubali\",\"Srimanthudu\",\"Bahubali2\",\"Ala vaikuntapuraamlo\",\"Gaddalakonda ganesh\"]\n",
        "     print(\"my recommended Action movie is:\\n\",random.choice(b))\n",
        "elif m == \"Thriller\": \n",
        "     c = [\"Bhaagamati\",\"Awe\",\"seven\",\"spyder\",\"game over\",\"Tik tik tik\",\"kahana kshanam\"]\n",
        "     print(\"my recommended Thriller movie is:\\n\",random.choice(c))\n",
        "elif m == \"Comedy\":\n",
        "     d = [\"Bheeshma\",\"oh!baby\",\"F2\",\"Hello guru prema kosame\",\"Raju gari gadhi3\"]\n",
        "     print(\"my recommended comedy movie is:\\n\",random.choice(d))\n",
        "else:\n",
        "     print(\"error: please enter word first letter with capital\")\n",
        "print(\"---------------------------------------\")"
      ],
      "execution_count": 53,
      "outputs": [
        {
          "output_type": "stream",
          "text": [
            "Movie recommendations system  \n",
            "please type movie genres in the given list\n",
            " Animated \n",
            " Action \n",
            " Thriller \n",
            " Comedy\n",
            "Type your choice: Comedy\n",
            "------------------------------------‐--\n",
            "my recommended comedy movie is:\n",
            " oh!baby\n",
            "---------------------------------------\n"
          ],
          "name": "stdout"
        }
      ]
    }
  ]
}